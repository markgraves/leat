{
 "cells": [
  {
   "cell_type": "markdown",
   "id": "266d0096",
   "metadata": {},
   "source": [
    "# Simple Search Examples"
   ]
  },
  {
   "cell_type": "markdown",
   "id": "c67debe0",
   "metadata": {},
   "source": [
    "## Preliminaries"
   ]
  },
  {
   "cell_type": "code",
   "execution_count": 1,
   "id": "4a829ea4",
   "metadata": {},
   "outputs": [],
   "source": [
    "# only needed when developing code\n",
    "%load_ext autoreload\n",
    "%autoreload 2"
   ]
  },
  {
   "cell_type": "code",
   "execution_count": 2,
   "id": "582ce482",
   "metadata": {},
   "outputs": [
    {
     "data": {
      "text/html": [
       "<style>pre { white-space: pre !important; }</style>"
      ],
      "text/plain": [
       "<IPython.core.display.HTML object>"
      ]
     },
     "metadata": {},
     "output_type": "display_data"
    }
   ],
   "source": [
    "from IPython.display import display, HTML\n",
    "# enable horizontal scrolling in notebook\n",
    "display(HTML(\"<style>pre { white-space: pre !important; }</style>\"))"
   ]
  },
  {
   "cell_type": "markdown",
   "id": "55c0c762",
   "metadata": {},
   "source": [
    "## Search function"
   ]
  },
  {
   "cell_type": "code",
   "execution_count": 3,
   "id": "0ccd26b3",
   "metadata": {},
   "outputs": [],
   "source": [
    "from leat.search import Search"
   ]
  },
  {
   "cell_type": "code",
   "execution_count": null,
   "id": "11a1fd58",
   "metadata": {},
   "outputs": [],
   "source": [
    "search = Search(predefined_configuration='BasicSearch', doc_store=\"../../tests/data/docset1\")"
   ]
  },
  {
   "cell_type": "code",
   "execution_count": 5,
   "id": "a3acb8be",
   "metadata": {},
   "outputs": [
    {
     "data": {
      "text/plain": [
       "['Test', 'Performance Metrics', 'Ethical Principles', 'Data Ethics']"
      ]
     },
     "execution_count": 5,
     "metadata": {},
     "output_type": "execute_result"
    }
   ],
   "source": [
    "search.all_concepts()"
   ]
  },
  {
   "cell_type": "code",
   "execution_count": 6,
   "id": "a8c3dba4",
   "metadata": {},
   "outputs": [
    {
     "data": {
      "text/plain": [
       "[<leat.search.result.result.DocResult at 0x114f42630>]"
      ]
     },
     "execution_count": 6,
     "metadata": {},
     "output_type": "execute_result"
    }
   ],
   "source": [
    "list(search.search_documents())"
   ]
  },
  {
   "cell_type": "code",
   "execution_count": 7,
   "id": "0df62cde",
   "metadata": {},
   "outputs": [
    {
     "data": {
      "text/plain": [
       "[<leat.search.result.result.DocResult at 0x1120a74d0>]"
      ]
     },
     "execution_count": 7,
     "metadata": {},
     "output_type": "execute_result"
    }
   ],
   "source": [
    "doc_results = [doc_result for doc_result in search]\n",
    "doc_results"
   ]
  },
  {
   "cell_type": "markdown",
   "id": "edad9ff3",
   "metadata": {},
   "source": [
    "Note that iterating over `search` performs a `search.search_documents()`"
   ]
  },
  {
   "cell_type": "markdown",
   "id": "53372f90",
   "metadata": {},
   "source": [
    "Look at the results in a simple text format"
   ]
  },
  {
   "cell_type": "code",
   "execution_count": 8,
   "id": "30715b63",
   "metadata": {},
   "outputs": [
    {
     "name": "stdout",
     "output_type": "stream",
     "text": [
      "../../tests/data/docset1/simple-document-1.txt\n",
      "le Document Dec 18, 2022  There are tradeoffs between precision and recall as well as sensitivity and specificity.  Recall and sensitivity are mathematically equivalent.   Thus, the two tradeoffs differ, and the choice between them may introduce bias.  Fairness typically refers to equality and/or equity as a type of distributive justice. Utilitarianism is a different theory of justice.  \n",
      "                    2022[Test]\n",
      "                                                      precision[Performance Metrics]\n",
      "                                                                    recall[Performance Metrics]\n",
      "                                                                                      sensitivity[Performance Metrics]\n",
      "                                                                                                      specificity[Performance Metrics]\n",
      "                                                                                                                    Recall[Performance Metrics]\n",
      "                                                                                                                               sensitivity[Performance Metrics]\n",
      "                                                                                                                                                                                                                                                      bias[Data Ethics]\n",
      "                                                                                                                                                                                                                                                             Fairness[Data Ethics]\n",
      "                                                                                                                                                                                                                                                                                                          equity[Data Ethics]\n",
      "                                                                                                                                                                                                                                                                                                                                           justice[Ethical Principles]\n",
      "                                                                                                                                                                                                                                                                                                                                                                                            justice[Ethical Principles]\n",
      "\n"
     ]
    }
   ],
   "source": [
    "for r in doc_results:\n",
    "    print(r.astext())"
   ]
  },
  {
   "cell_type": "markdown",
   "id": "00f314d4",
   "metadata": {},
   "source": [
    "## Save or display the results\n",
    "\n",
    "### Write results to a file"
   ]
  },
  {
   "cell_type": "code",
   "execution_count": 9,
   "id": "ef332d8a",
   "metadata": {},
   "outputs": [],
   "source": [
    "from leat.search.writer import TextWriter, HTMLWriter"
   ]
  },
  {
   "cell_type": "code",
   "execution_count": 10,
   "id": "3f3b6be7",
   "metadata": {},
   "outputs": [],
   "source": [
    "def write_search_result_text(search, output_file):\n",
    "    with open(output_file, \"w\") as ofp:\n",
    "        w = TextWriter(stream=ofp)\n",
    "        for doc_result in search:\n",
    "            w.write_doc_result(doc_result)\n",
    "            \n",
    "def write_search_result_html(search, output_file):\n",
    "    with open(output_file, \"w\") as ofp:\n",
    "        w = HTMLWriter(stream=ofp)\n",
    "        for doc_result in search:\n",
    "            w.write_doc_result(doc_result)            "
   ]
  },
  {
   "cell_type": "code",
   "execution_count": 11,
   "id": "ca6a0030",
   "metadata": {},
   "outputs": [],
   "source": [
    "write_search_result_text(search, 'temp.txt')"
   ]
  },
  {
   "cell_type": "markdown",
   "id": "2a1d164d",
   "metadata": {},
   "source": [
    "TextWriter generates the simple text format like above.\n",
    "HTMLWriter generates a html format."
   ]
  },
  {
   "cell_type": "code",
   "execution_count": 12,
   "id": "2ca42e32",
   "metadata": {},
   "outputs": [],
   "source": [
    "write_search_result_html(search, 'temp.html')"
   ]
  },
  {
   "cell_type": "markdown",
   "id": "6bf8a5c8",
   "metadata": {},
   "source": [
    "### Write results to a string"
   ]
  },
  {
   "cell_type": "markdown",
   "id": "26074f3f",
   "metadata": {},
   "source": [
    "If no stream is specified, then the Writer returns a string."
   ]
  },
  {
   "cell_type": "code",
   "execution_count": 13,
   "id": "130fe5b3",
   "metadata": {
    "scrolled": true
   },
   "outputs": [
    {
     "data": {
      "text/html": [
       "<div>\n",
       "../tests/data/docset1/simple-document-1.txt\n",
       "<details style=\"margin-left: 2em;\"><summary style=\"margin-left: -2em;\"><u style=\"color: #F1E740\">Performance Metrics</u>(6); <u style=\"color: #F1E740\">Data Ethics</u>(3); <u style=\"color: #F1E740\">Ethical Principles</u>(2); <u style=\"color: #F1E740\">Test</u>(1)</summary><div>\n",
       "<details open><summary><u style=\"color: #F1E740\">Performance Metrics</u>(6); <u style=\"color: #F1E740\">Data Ethics</u>(3); <u style=\"color: #F1E740\">Ethical Principles</u>(2); <u style=\"color: #F1E740\">Test</u>(1)</summary><span>le Document Dec 18, </span><span style=\"background-color:#F1E740\" title=\"Test\">2022</span><span style=\"color:#F1E740\" title=\"2022[Test]\"><sup>[Test]</sup></span><span>  There are tradeoffs between </span><span style=\"background-color:#F1E740\" title=\"Performance Metrics\">precision</span><span style=\"color:#F1E740\" title=\"precision[Performance Metrics]\"><sup>[Performance Metrics]</sup></span><span> and </span><span style=\"background-color:#F1E740\" title=\"Performance Metrics\">recall</span><span style=\"color:#F1E740\" title=\"recall[Performance Metrics]\"><sup>[Performance Metrics]</sup></span><span> as well as </span><span style=\"background-color:#F1E740\" title=\"Performance Metrics\">sensitivity</span><span style=\"color:#F1E740\" title=\"sensitivity[Performance Metrics]\"><sup>[Performance Metrics]</sup></span><span> and </span><span style=\"background-color:#F1E740\" title=\"Performance Metrics\">specificity</span><span style=\"color:#F1E740\" title=\"specificity[Performance Metrics]\"><sup>[Performance Metrics]</sup></span><span>.  </span><span style=\"background-color:#F1E740\" title=\"Performance Metrics\">Recall</span><span style=\"color:#F1E740\" title=\"Recall[Performance Metrics]\"><sup>[Performance Metrics]</sup></span><span> and </span><span style=\"background-color:#F1E740\" title=\"Performance Metrics\">sensitivity</span><span style=\"color:#F1E740\" title=\"sensitivity[Performance Metrics]\"><sup>[Performance Metrics]</sup></span><span> are mathematically equivalent.   Thus, the two tradeoffs differ, and the choice between them may introduce </span><span style=\"background-color:#F1E740\" title=\"Data Ethics\">bias</span><span style=\"color:#F1E740\" title=\"bias[Data Ethics]\"><sup>[Data Ethics]</sup></span><span>.  </span><span style=\"background-color:#F1E740\" title=\"Data Ethics\">Fairness</span><span style=\"color:#F1E740\" title=\"Fairness[Data Ethics]\"><sup>[Data Ethics]</sup></span><span> typically refers to equality and/or </span><span style=\"background-color:#F1E740\" title=\"Data Ethics\">equity</span><span style=\"color:#F1E740\" title=\"equity[Data Ethics]\"><sup>[Data Ethics]</sup></span><span> as a type of distributive </span><span style=\"background-color:#F1E740\" title=\"Ethical Principles\">justice</span><span style=\"color:#F1E740\" title=\"justice[Ethical Principles]\"><sup>[Ethical Principles]</sup></span><span>. Utilitarianism is a different theory of </span><span style=\"background-color:#F1E740\" title=\"Ethical Principles\">justice</span><span style=\"color:#F1E740\" title=\"justice[Ethical Principles]\"><sup>[Ethical Principles]</sup></span><span>.  </span></details></div>\n",
       "</details></div>\n"
      ],
      "text/plain": [
       "<IPython.core.display.HTML object>"
      ]
     },
     "execution_count": 13,
     "metadata": {},
     "output_type": "execute_result"
    }
   ],
   "source": [
    "html_writer = HTMLWriter()\n",
    "HTML(html_writer.get_doc_result_html(doc_results[0]))"
   ]
  },
  {
   "cell_type": "markdown",
   "id": "8722afaf",
   "metadata": {},
   "source": [
    "The html uses summary/detail for the results, so click on the summary line to toggle whether the details show"
   ]
  },
  {
   "cell_type": "markdown",
   "id": "83517858",
   "metadata": {},
   "source": [
    "### Color Scheme"
   ]
  },
  {
   "cell_type": "markdown",
   "id": "265dc2cc",
   "metadata": {},
   "source": [
    "Can change the colors for each concept with a color scheme"
   ]
  },
  {
   "cell_type": "code",
   "execution_count": 13,
   "id": "d4718fd1",
   "metadata": {},
   "outputs": [],
   "source": [
    "COLOR_SCHEME = {\n",
    "    \"concept_colors\": {\n",
    "        \"Test\": \"#088F8F\",  # blue green\n",
    "        \"Performance Metrics\": \"#00FF00\",  # green\n",
    "        \"Ethical Principles\": \"#0096FF\",  # bright blue\n",
    "        \"Data Ethics\": \"#87CEEB\",  # sky blue\n",
    "        \"Be Verbs\": \"#800000\",  # maroon\n",
    "        \"Conjunctions\": \"#800000\",  # maroon\n",
    "        \"Articles\": \"#800000\",  # maroon\n",
    "        \"Clause\": \"#ADD8E6\",  # light blue\n",
    "        \"First 7\": \"#ADD8E6\",  # light blue\n",
    "        \"Second 5\": \"#FF0000\",  # red\n",
    "    }\n",
    "}"
   ]
  },
  {
   "cell_type": "code",
   "execution_count": 14,
   "id": "b1fd9072",
   "metadata": {},
   "outputs": [
    {
     "data": {
      "text/html": [
       "<div>\n",
       "../../tests/data/docset1/simple-document-1.txt\n",
       "<details style=\"margin-left: 2em;\"><summary style=\"margin-left: -2em;\"><u style=\"color: #00FF00\">Performance Metrics</u>(6); <u style=\"color: #87CEEB\">Data Ethics</u>(3); <u style=\"color: #0096FF\">Ethical Principles</u>(2); <u style=\"color: #088F8F\">Test</u>(1)</summary><div>\n",
       "<details open><summary><u style=\"color: #00FF00\">Performance Metrics</u>(6); <u style=\"color: #87CEEB\">Data Ethics</u>(3); <u style=\"color: #0096FF\">Ethical Principles</u>(2); <u style=\"color: #088F8F\">Test</u>(1)</summary><span>le Document Dec 18, </span><span style=\"background-color:#088F8F\" title=\"Test\">2022</span><span style=\"color:#088F8F\" title=\"2022[Test]\"><sup>[Test]</sup></span><span>  There are tradeoffs between </span><span style=\"background-color:#00FF00\" title=\"Performance Metrics\">precision</span><span style=\"color:#00FF00\" title=\"precision[Performance Metrics]\"><sup>[Performance Metrics]</sup></span><span> and </span><span style=\"background-color:#00FF00\" title=\"Performance Metrics\">recall</span><span style=\"color:#00FF00\" title=\"recall[Performance Metrics]\"><sup>[Performance Metrics]</sup></span><span> as well as </span><span style=\"background-color:#00FF00\" title=\"Performance Metrics\">sensitivity</span><span style=\"color:#00FF00\" title=\"sensitivity[Performance Metrics]\"><sup>[Performance Metrics]</sup></span><span> and </span><span style=\"background-color:#00FF00\" title=\"Performance Metrics\">specificity</span><span style=\"color:#00FF00\" title=\"specificity[Performance Metrics]\"><sup>[Performance Metrics]</sup></span><span>.  </span><span style=\"background-color:#00FF00\" title=\"Performance Metrics\">Recall</span><span style=\"color:#00FF00\" title=\"Recall[Performance Metrics]\"><sup>[Performance Metrics]</sup></span><span> and </span><span style=\"background-color:#00FF00\" title=\"Performance Metrics\">sensitivity</span><span style=\"color:#00FF00\" title=\"sensitivity[Performance Metrics]\"><sup>[Performance Metrics]</sup></span><span> are mathematically equivalent.   Thus, the two tradeoffs differ, and the choice between them may introduce </span><span style=\"background-color:#87CEEB\" title=\"Data Ethics\">bias</span><span style=\"color:#87CEEB\" title=\"bias[Data Ethics]\"><sup>[Data Ethics]</sup></span><span>.  </span><span style=\"background-color:#87CEEB\" title=\"Data Ethics\">Fairness</span><span style=\"color:#87CEEB\" title=\"Fairness[Data Ethics]\"><sup>[Data Ethics]</sup></span><span> typically refers to equality and/or </span><span style=\"background-color:#87CEEB\" title=\"Data Ethics\">equity</span><span style=\"color:#87CEEB\" title=\"equity[Data Ethics]\"><sup>[Data Ethics]</sup></span><span> as a type of distributive </span><span style=\"background-color:#0096FF\" title=\"Ethical Principles\">justice</span><span style=\"color:#0096FF\" title=\"justice[Ethical Principles]\"><sup>[Ethical Principles]</sup></span><span>. Utilitarianism is a different theory of </span><span style=\"background-color:#0096FF\" title=\"Ethical Principles\">justice</span><span style=\"color:#0096FF\" title=\"justice[Ethical Principles]\"><sup>[Ethical Principles]</sup></span><span>.  </span></details></div>\n",
       "</details></div>\n"
      ],
      "text/plain": [
       "<IPython.core.display.HTML object>"
      ]
     },
     "execution_count": 14,
     "metadata": {},
     "output_type": "execute_result"
    }
   ],
   "source": [
    "html_writer = HTMLWriter(scheme=COLOR_SCHEME)\n",
    "HTML(html_writer.get_doc_result_html(doc_results[0]))"
   ]
  },
  {
   "cell_type": "code",
   "execution_count": null,
   "id": "72625734",
   "metadata": {},
   "outputs": [],
   "source": []
  }
 ],
 "metadata": {
  "kernelspec": {
   "display_name": "Python 3 (ipykernel)",
   "language": "python",
   "name": "python3"
  },
  "language_info": {
   "codemirror_mode": {
    "name": "ipython",
    "version": 3
   },
   "file_extension": ".py",
   "mimetype": "text/x-python",
   "name": "python",
   "nbconvert_exporter": "python",
   "pygments_lexer": "ipython3",
   "version": "3.12.11"
  }
 },
 "nbformat": 4,
 "nbformat_minor": 5
}
